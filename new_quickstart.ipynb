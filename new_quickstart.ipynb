{
 "cells": [
  {
   "cell_type": "code",
   "execution_count": 6,
   "id": "d2ea074a",
   "metadata": {},
   "outputs": [],
   "source": [
    "import palimpzest as pz"
   ]
  },
  {
   "cell_type": "code",
   "execution_count": 3,
   "id": "7c2b4a1e",
   "metadata": {},
   "outputs": [],
   "source": [
    "# # download tar files with testdata\n",
    "# !wget -nc https://people.csail.mit.edu/gerarvit/PalimpzestData/enron-tiny.tar.gz\n",
    "# !wget -nc wget -nc https://people.csail.mit.edu/gerarvit/PalimpzestData/real-estate-eval-5.tar.gz\n",
    "# !wget -nc https://palimpzest-workloads.s3.us-east-1.amazonaws.com/chroma-biodex.tar.gz\n",
    "\n",
    "# # open tar files\n",
    "# !tar -xzf enron-tiny.tar.gz\n",
    "# !tar -xzf real-estate-eval-5.tar.gz\n",
    "# !tar -xzf chroma-biodex.tar.gz"
   ]
  },
  {
   "cell_type": "code",
   "execution_count": 7,
   "id": "7e2f6c71",
   "metadata": {},
   "outputs": [],
   "source": [
    "# define the fields we wish to compute\n",
    "email_cols = [\n",
    "    {\"name\": \"sender\", \"type\": str, \"desc\": \"The email address of the sender\"},\n",
    "    {\"name\": \"subject\", \"type\": str, \"desc\": \"The subject of the email\"},\n",
    "    {\"name\": \"date\", \"type\": str, \"desc\": \"The date the email was sent\"},\n",
    "]\n",
    "\n",
    "# lazily construct the computation to get emails about holidays sent in July\n",
    "dataset = pz.TextFileDataset(id=\"enron\",path=\"enron-tiny/\")\n",
    "dataset = dataset.sem_map(email_cols)\n",
    "dataset = dataset.sem_filter(\"The email was sent in July\")\n",
    "dataset = dataset.sem_filter(\"The email is about holidays\")"
   ]
  },
  {
   "cell_type": "code",
   "execution_count": 8,
   "id": "a1ed6765",
   "metadata": {},
   "outputs": [
    {
     "data": {
      "application/vnd.jupyter.widget-view+json": {
       "model_id": "42597cd2929341f1a32db75bc697bba9",
       "version_major": 2,
       "version_minor": 0
      },
      "text/plain": [
       "Output()"
      ]
     },
     "metadata": {},
     "output_type": "display_data"
    },
    {
     "name": "stdout",
     "output_type": "stream",
     "text": [
      "\n"
     ]
    },
    {
     "data": {
      "text/html": [
       "<pre style=\"white-space:pre;overflow-x:auto;line-height:normal;font-family:Menlo,'DejaVu Sans Mono',consolas,'Courier New',monospace\"></pre>\n"
      ],
      "text/plain": []
     },
     "metadata": {},
     "output_type": "display_data"
    },
    {
     "name": "stdout",
     "output_type": "stream",
     "text": [
      "Total time: 1.77s\n",
      "Total cost: $0.0461\n"
     ]
    }
   ],
   "source": [
    "# from src.palimpzest.query.processor.config import QueryProcessorConfig\n",
    "config = pz.QueryProcessorConfig(\n",
    "    available_models=[\"hosted_vllm/Qwen/Qwen2.5-1.5B-Instruct\"],\n",
    "    api_base=\"http://localhost:8000/v1\",\n",
    "    policy=pz.MaxQuality(),\n",
    "    execution_strategy=\"parallel\",\n",
    "    progress=True\n",
    ")\n",
    "output = dataset.run(config)\n"
   ]
  },
  {
   "cell_type": "code",
   "execution_count": 9,
   "id": "4a9cf3e8",
   "metadata": {},
   "outputs": [
    {
     "data": {
      "text/html": [
       "<div>\n",
       "<style scoped>\n",
       "    .dataframe tbody tr th:only-of-type {\n",
       "        vertical-align: middle;\n",
       "    }\n",
       "\n",
       "    .dataframe tbody tr th {\n",
       "        vertical-align: top;\n",
       "    }\n",
       "\n",
       "    .dataframe thead th {\n",
       "        text-align: right;\n",
       "    }\n",
       "</style>\n",
       "<table border=\"1\" class=\"dataframe\">\n",
       "  <thead>\n",
       "    <tr style=\"text-align: right;\">\n",
       "      <th></th>\n",
       "      <th>sender</th>\n",
       "      <th>subject</th>\n",
       "      <th>date</th>\n",
       "    </tr>\n",
       "  </thead>\n",
       "  <tbody>\n",
       "    <tr>\n",
       "      <th>0</th>\n",
       "      <td>larry.berger@enron.com</td>\n",
       "      <td>Vacation Days in August</td>\n",
       "      <td>Thu, 26 Jul 2001 06:59:38 -0700 (PDT)</td>\n",
       "    </tr>\n",
       "    <tr>\n",
       "      <th>1</th>\n",
       "      <td>larry.berger@enron.com</td>\n",
       "      <td>Vacation days in July</td>\n",
       "      <td>Thu, 28 Jun 2001 09:55:24 -0700 (PDT)</td>\n",
       "    </tr>\n",
       "  </tbody>\n",
       "</table>\n",
       "</div>"
      ],
      "text/plain": [
       "                   sender                  subject  \\\n",
       "0  larry.berger@enron.com  Vacation Days in August   \n",
       "1  larry.berger@enron.com    Vacation days in July   \n",
       "\n",
       "                                    date  \n",
       "0  Thu, 26 Jul 2001 06:59:38 -0700 (PDT)  \n",
       "1  Thu, 28 Jun 2001 09:55:24 -0700 (PDT)  "
      ]
     },
     "metadata": {},
     "output_type": "display_data"
    }
   ],
   "source": [
    "# display output (if using Jupyter, otherwise use print(output_df))\n",
    "output_df = output.to_df(cols=[\"date\", \"sender\", \"subject\"])\n",
    "display(output_df)"
   ]
  },
  {
   "cell_type": "code",
   "execution_count": 5,
   "id": "867ba76e",
   "metadata": {},
   "outputs": [
    {
     "name": "stdout",
     "output_type": "stream",
     "text": [
      "Optimization Time: 0.00s\n",
      "Optimization Cost: $0.000\n",
      "---\n",
      "Plan Execution Time: 3.69s\n",
      "Plan Execution Cost: $0.046\n",
      "Final plan executed:\n",
      "---\n",
      "0. Schema['contents', 'date', 'filename', 'sender', 'subject'] -> LLMFilter -> Schema['contents', 'date', 'filename', 'sender', 'subject']\n",
      "    (contents, date, filename, send) -> (contents, date, filename, send)\n",
      "    Model: Model.VLLM_QWEN_2_5_1_5B_INSTRUCT\n",
      "    Filter: The email is about holidays\n",
      "\n",
      "  1. Schema['contents', 'date', 'filename', 'sender', 'subject'] -> LLMFilter -> Schema['contents', 'date', 'filename', 'sender', 'subject']\n",
      "    (contents, date, filename, send) -> (contents, date, filename, send)\n",
      "    Model: Model.VLLM_QWEN_2_5_1_5B_INSTRUCT\n",
      "    Filter: The email was sent in July\n",
      "\n",
      "    2. TextFile -> LLMConvertBonded -> Schema['contents', 'date', 'filename', 'sender', 'subject']\n",
      "    (contents, filename) -> (contents, date, filename, send)\n",
      "    Model: Model.VLLM_QWEN_2_5_1_5B_INSTRUCT\n",
      "    Prompt Strategy: PromptStrategy.COT_QA\n",
      "    Reasoning Effort: None\n",
      "\n",
      "      3. MarshalAndScanDataOp(Dataset(schema=<class 'palimpzest.core.lib.schemas.TextFile'>, id=enron, op_id=509e6d09f0)) -> <class 'palimpzest.core.lib.schemas.TextFile'>\n",
      "    (filename, contents)\n",
      "\n",
      "\n"
     ]
    }
   ],
   "source": [
    "print(f\"Optimization Time: {output.execution_stats.optimization_time:.2f}s\")\n",
    "print(f\"Optimization Cost: ${output.execution_stats.optimization_cost:.3f}\")\n",
    "print(\"---\")\n",
    "print(f\"Plan Execution Time: {output.execution_stats.plan_execution_time:.2f}s\")\n",
    "print(f\"Plan Execution Cost: ${output.execution_stats.plan_execution_cost:.3f}\")\n",
    "\n",
    "print(\"Final plan executed:\")\n",
    "print(\"---\")\n",
    "final_plan_id = list(output.execution_stats.plan_strs.keys())[-1]\n",
    "print(output.execution_stats.plan_strs[final_plan_id])"
   ]
  }
 ],
 "metadata": {
  "kernelspec": {
   "display_name": "abacus",
   "language": "python",
   "name": "python3"
  },
  "language_info": {
   "codemirror_mode": {
    "name": "ipython",
    "version": 3
   },
   "file_extension": ".py",
   "mimetype": "text/x-python",
   "name": "python",
   "nbconvert_exporter": "python",
   "pygments_lexer": "ipython3",
   "version": "3.12.3"
  }
 },
 "nbformat": 4,
 "nbformat_minor": 5
}
